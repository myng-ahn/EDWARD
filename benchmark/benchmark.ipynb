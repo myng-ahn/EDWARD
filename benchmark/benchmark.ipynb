{
 "cells": [
  {
   "attachments": {},
   "cell_type": "markdown",
   "metadata": {},
   "source": [
    "*Please note, this directory is independent of the edward package such that requirements must be downloaded seperately and are not provided in `requirements.txt`."
   ]
  },
  {
   "attachments": {},
   "cell_type": "markdown",
   "metadata": {},
   "source": [
    "# Plink v. Edward: PCA\n",
    "\n",
    "## Time\n",
    "Run `plink_edward.sh` with input file of choice\n",
    "\n",
    "## Accuracy\n",
    "1. Compare html output of Edward to code below to read in Plink output"
   ]
  },
  {
   "cell_type": "code",
   "execution_count": null,
   "metadata": {
    "vscode": {
     "languageId": "plaintext"
    }
   },
   "outputs": [],
   "source": []
  }
 ],
 "metadata": {
  "language_info": {
   "name": "python"
  },
  "orig_nbformat": 4
 },
 "nbformat": 4,
 "nbformat_minor": 2
}
